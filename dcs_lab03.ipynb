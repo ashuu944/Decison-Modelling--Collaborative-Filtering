{
 "cells": [
  {
   "cell_type": "markdown",
   "id": "8b2294a4",
   "metadata": {},
   "source": [
    "## COLLABORATIVE FILTERING AS A MODEL OF GROUP DECISION-MAKING\n",
    "\n",
    "A collaborative filtering algorithm usually works by searching a large group of people and finding a smaller set with tastes similar to yours. It looks at other things they like and combines them to create a ranked list of suggestions. There are several different ways of deciding which people are similar and combining their choices to make a list ; this tutorial cover a few of these.\n",
    "\n"
   ]
  },
  {
   "cell_type": "code",
   "execution_count": 208,
   "id": "a5e592dd",
   "metadata": {},
   "outputs": [],
   "source": [
    "#import libraries\n",
    "from pulp import *\n",
    "import pandas as pd\n",
    "import numpy as np\n",
    "from numpy.linalg import norm\n",
    "import math\n",
    "import random\n",
    "from scipy import stats\n",
    "from scipy import spatial"
   ]
  },
  {
   "cell_type": "markdown",
   "id": "81fd1e08",
   "metadata": {},
   "source": [
    "### Which movie we can suggest to Anne?\n",
    "\n",
    "Our objective is to provide recommendations to Anne, taking into account the ratings of the seven movie critics. All the data are stored in an Excel file.\n"
   ]
  },
  {
   "cell_type": "code",
   "execution_count": 209,
   "id": "cd27fb82",
   "metadata": {},
   "outputs": [
    {
     "data": {
      "text/html": [
       "<div>\n",
       "<style scoped>\n",
       "    .dataframe tbody tr th:only-of-type {\n",
       "        vertical-align: middle;\n",
       "    }\n",
       "\n",
       "    .dataframe tbody tr th {\n",
       "        vertical-align: top;\n",
       "    }\n",
       "\n",
       "    .dataframe thead th {\n",
       "        text-align: right;\n",
       "    }\n",
       "</style>\n",
       "<table border=\"1\" class=\"dataframe\">\n",
       "  <thead>\n",
       "    <tr style=\"text-align: right;\">\n",
       "      <th></th>\n",
       "      <th>Person</th>\n",
       "      <th>Lady</th>\n",
       "      <th>Snakes</th>\n",
       "      <th>Luck</th>\n",
       "      <th>Superman</th>\n",
       "      <th>Dupree</th>\n",
       "      <th>Night</th>\n",
       "    </tr>\n",
       "  </thead>\n",
       "  <tbody>\n",
       "    <tr>\n",
       "      <th>0</th>\n",
       "      <td>Lisa Rose</td>\n",
       "      <td>2.5</td>\n",
       "      <td>3.5</td>\n",
       "      <td>3.0</td>\n",
       "      <td>3.5</td>\n",
       "      <td>2.5</td>\n",
       "      <td>3.0</td>\n",
       "    </tr>\n",
       "    <tr>\n",
       "      <th>1</th>\n",
       "      <td>Gene Seymour</td>\n",
       "      <td>3.0</td>\n",
       "      <td>3.5</td>\n",
       "      <td>1.5</td>\n",
       "      <td>5.0</td>\n",
       "      <td>3.5</td>\n",
       "      <td>3.0</td>\n",
       "    </tr>\n",
       "    <tr>\n",
       "      <th>2</th>\n",
       "      <td>Michael Phillips</td>\n",
       "      <td>2.5</td>\n",
       "      <td>3.0</td>\n",
       "      <td>NaN</td>\n",
       "      <td>3.5</td>\n",
       "      <td>NaN</td>\n",
       "      <td>4.0</td>\n",
       "    </tr>\n",
       "    <tr>\n",
       "      <th>3</th>\n",
       "      <td>Claudia Puig</td>\n",
       "      <td>NaN</td>\n",
       "      <td>3.5</td>\n",
       "      <td>3.0</td>\n",
       "      <td>4.0</td>\n",
       "      <td>2.5</td>\n",
       "      <td>4.5</td>\n",
       "    </tr>\n",
       "    <tr>\n",
       "      <th>4</th>\n",
       "      <td>Mick Lasalle</td>\n",
       "      <td>3.0</td>\n",
       "      <td>4.0</td>\n",
       "      <td>2.0</td>\n",
       "      <td>3.0</td>\n",
       "      <td>2.0</td>\n",
       "      <td>3.0</td>\n",
       "    </tr>\n",
       "    <tr>\n",
       "      <th>5</th>\n",
       "      <td>Jack Matthews</td>\n",
       "      <td>3.0</td>\n",
       "      <td>4.0</td>\n",
       "      <td>NaN</td>\n",
       "      <td>5.0</td>\n",
       "      <td>3.5</td>\n",
       "      <td>3.0</td>\n",
       "    </tr>\n",
       "    <tr>\n",
       "      <th>6</th>\n",
       "      <td>Toby</td>\n",
       "      <td>NaN</td>\n",
       "      <td>4.5</td>\n",
       "      <td>NaN</td>\n",
       "      <td>4.0</td>\n",
       "      <td>1.0</td>\n",
       "      <td>NaN</td>\n",
       "    </tr>\n",
       "    <tr>\n",
       "      <th>7</th>\n",
       "      <td>Anne</td>\n",
       "      <td>1.5</td>\n",
       "      <td>NaN</td>\n",
       "      <td>4.0</td>\n",
       "      <td>NaN</td>\n",
       "      <td>2.0</td>\n",
       "      <td>NaN</td>\n",
       "    </tr>\n",
       "  </tbody>\n",
       "</table>\n",
       "</div>"
      ],
      "text/plain": [
       "             Person  Lady  Snakes  Luck  Superman  Dupree  Night\n",
       "0         Lisa Rose   2.5     3.5   3.0       3.5     2.5    3.0\n",
       "1      Gene Seymour   3.0     3.5   1.5       5.0     3.5    3.0\n",
       "2  Michael Phillips   2.5     3.0   NaN       3.5     NaN    4.0\n",
       "3      Claudia Puig   NaN     3.5   3.0       4.0     2.5    4.5\n",
       "4      Mick Lasalle   3.0     4.0   2.0       3.0     2.0    3.0\n",
       "5     Jack Matthews   3.0     4.0   NaN       5.0     3.5    3.0\n",
       "6              Toby   NaN     4.5   NaN       4.0     1.0    NaN\n",
       "7              Anne   1.5     NaN   4.0       NaN     2.0    NaN"
      ]
     },
     "execution_count": 209,
     "metadata": {},
     "output_type": "execute_result"
    }
   ],
   "source": [
    "#reading file\n",
    "df = pd.read_csv(r'data/movie.csv', delimiter=',')\n",
    "df"
   ]
  },
  {
   "cell_type": "markdown",
   "id": "8c16e11f",
   "metadata": {},
   "source": [
    "#### 1. Build a dictionary Critiques \n",
    "From the Excel file, build a dictionary critiques containing the movie critics and their ratings (of course, you\n",
    "can choose another data structure). "
   ]
  },
  {
   "cell_type": "code",
   "execution_count": 210,
   "id": "20b6aa0b",
   "metadata": {},
   "outputs": [],
   "source": [
    "#change rows to column\n",
    "df= df.transpose()"
   ]
  },
  {
   "cell_type": "code",
   "execution_count": 211,
   "id": "e362f912",
   "metadata": {},
   "outputs": [],
   "source": [
    "df = df.rename(columns=df.iloc[0])"
   ]
  },
  {
   "cell_type": "code",
   "execution_count": 212,
   "id": "ee416352",
   "metadata": {},
   "outputs": [],
   "source": [
    "df = df.drop(df.index[0])"
   ]
  },
  {
   "cell_type": "code",
   "execution_count": 213,
   "id": "4431d1cd",
   "metadata": {},
   "outputs": [
    {
     "data": {
      "text/html": [
       "<div>\n",
       "<style scoped>\n",
       "    .dataframe tbody tr th:only-of-type {\n",
       "        vertical-align: middle;\n",
       "    }\n",
       "\n",
       "    .dataframe tbody tr th {\n",
       "        vertical-align: top;\n",
       "    }\n",
       "\n",
       "    .dataframe thead th {\n",
       "        text-align: right;\n",
       "    }\n",
       "</style>\n",
       "<table border=\"1\" class=\"dataframe\">\n",
       "  <thead>\n",
       "    <tr style=\"text-align: right;\">\n",
       "      <th></th>\n",
       "      <th>Lisa Rose</th>\n",
       "      <th>Gene Seymour</th>\n",
       "      <th>Michael Phillips</th>\n",
       "      <th>Claudia Puig</th>\n",
       "      <th>Mick Lasalle</th>\n",
       "      <th>Jack Matthews</th>\n",
       "      <th>Toby</th>\n",
       "      <th>Anne</th>\n",
       "    </tr>\n",
       "  </thead>\n",
       "  <tbody>\n",
       "    <tr>\n",
       "      <th>Lady</th>\n",
       "      <td>2.5</td>\n",
       "      <td>3.0</td>\n",
       "      <td>2.5</td>\n",
       "      <td>NaN</td>\n",
       "      <td>3.0</td>\n",
       "      <td>3.0</td>\n",
       "      <td>NaN</td>\n",
       "      <td>1.5</td>\n",
       "    </tr>\n",
       "    <tr>\n",
       "      <th>Snakes</th>\n",
       "      <td>3.5</td>\n",
       "      <td>3.5</td>\n",
       "      <td>3.0</td>\n",
       "      <td>3.5</td>\n",
       "      <td>4.0</td>\n",
       "      <td>4.0</td>\n",
       "      <td>4.5</td>\n",
       "      <td>NaN</td>\n",
       "    </tr>\n",
       "    <tr>\n",
       "      <th>Luck</th>\n",
       "      <td>3.0</td>\n",
       "      <td>1.5</td>\n",
       "      <td>NaN</td>\n",
       "      <td>3.0</td>\n",
       "      <td>2.0</td>\n",
       "      <td>NaN</td>\n",
       "      <td>NaN</td>\n",
       "      <td>4.0</td>\n",
       "    </tr>\n",
       "    <tr>\n",
       "      <th>Superman</th>\n",
       "      <td>3.5</td>\n",
       "      <td>5.0</td>\n",
       "      <td>3.5</td>\n",
       "      <td>4.0</td>\n",
       "      <td>3.0</td>\n",
       "      <td>5.0</td>\n",
       "      <td>4.0</td>\n",
       "      <td>NaN</td>\n",
       "    </tr>\n",
       "    <tr>\n",
       "      <th>Dupree</th>\n",
       "      <td>2.5</td>\n",
       "      <td>3.5</td>\n",
       "      <td>NaN</td>\n",
       "      <td>2.5</td>\n",
       "      <td>2.0</td>\n",
       "      <td>3.5</td>\n",
       "      <td>1.0</td>\n",
       "      <td>2.0</td>\n",
       "    </tr>\n",
       "    <tr>\n",
       "      <th>Night</th>\n",
       "      <td>3.0</td>\n",
       "      <td>3.0</td>\n",
       "      <td>4.0</td>\n",
       "      <td>4.5</td>\n",
       "      <td>3.0</td>\n",
       "      <td>3.0</td>\n",
       "      <td>NaN</td>\n",
       "      <td>NaN</td>\n",
       "    </tr>\n",
       "  </tbody>\n",
       "</table>\n",
       "</div>"
      ],
      "text/plain": [
       "         Lisa Rose Gene Seymour Michael Phillips Claudia Puig Mick Lasalle  \\\n",
       "Lady           2.5          3.0              2.5          NaN          3.0   \n",
       "Snakes         3.5          3.5              3.0          3.5          4.0   \n",
       "Luck           3.0          1.5              NaN          3.0          2.0   \n",
       "Superman       3.5          5.0              3.5          4.0          3.0   \n",
       "Dupree         2.5          3.5              NaN          2.5          2.0   \n",
       "Night          3.0          3.0              4.0          4.5          3.0   \n",
       "\n",
       "         Jack Matthews Toby Anne  \n",
       "Lady               3.0  NaN  1.5  \n",
       "Snakes             4.0  4.5  NaN  \n",
       "Luck               NaN  NaN  4.0  \n",
       "Superman           5.0  4.0  NaN  \n",
       "Dupree             3.5  1.0  2.0  \n",
       "Night              3.0  NaN  NaN  "
      ]
     },
     "execution_count": 213,
     "metadata": {},
     "output_type": "execute_result"
    }
   ],
   "source": [
    "df"
   ]
  },
  {
   "cell_type": "code",
   "execution_count": 214,
   "id": "add1c876",
   "metadata": {},
   "outputs": [],
   "source": [
    "Critiques = df.to_dict()"
   ]
  },
  {
   "cell_type": "code",
   "execution_count": 215,
   "id": "efaff39f",
   "metadata": {},
   "outputs": [
    {
     "name": "stdout",
     "output_type": "stream",
     "text": [
      "{'Lisa Rose': {'Lady': 2.5, 'Snakes': 3.5, 'Luck': 3.0, 'Superman': 3.5, 'Dupree': 2.5, 'Night': 3.0}, 'Gene Seymour': {'Lady': 3.0, 'Snakes': 3.5, 'Luck': 1.5, 'Superman': 5.0, 'Dupree': 3.5, 'Night': 3.0}, 'Michael Phillips': {'Lady': 2.5, 'Snakes': 3.0, 'Luck': nan, 'Superman': 3.5, 'Dupree': nan, 'Night': 4.0}, 'Claudia Puig': {'Lady': nan, 'Snakes': 3.5, 'Luck': 3.0, 'Superman': 4.0, 'Dupree': 2.5, 'Night': 4.5}, 'Mick Lasalle': {'Lady': 3.0, 'Snakes': 4.0, 'Luck': 2.0, 'Superman': 3.0, 'Dupree': 2.0, 'Night': 3.0}, 'Jack Matthews': {'Lady': 3.0, 'Snakes': 4.0, 'Luck': nan, 'Superman': 5.0, 'Dupree': 3.5, 'Night': 3.0}, 'Toby': {'Lady': nan, 'Snakes': 4.5, 'Luck': nan, 'Superman': 4.0, 'Dupree': 1.0, 'Night': nan}, 'Anne': {'Lady': 1.5, 'Snakes': nan, 'Luck': 4.0, 'Superman': nan, 'Dupree': 2.0, 'Night': nan}}\n"
     ]
    }
   ],
   "source": [
    "print(Critiques)"
   ]
  },
  {
   "cell_type": "code",
   "execution_count": 216,
   "id": "0c60dba1",
   "metadata": {},
   "outputs": [
    {
     "name": "stdout",
     "output_type": "stream",
     "text": [
      "{'Lady': 2.5, 'Snakes': 3.5, 'Luck': 3.0, 'Superman': 3.5, 'Dupree': 2.5, 'Night': 3.0}\n"
     ]
    }
   ],
   "source": [
    "print(Critiques['Lisa Rose'])"
   ]
  },
  {
   "cell_type": "markdown",
   "id": "a338fbba",
   "metadata": {},
   "source": [
    "### 2. Calculating Similarity score\n",
    "After collecting data about the things people like, you need a way to determine how similar people are in their tastes.\n",
    "You do this by comparing each person with every other person and calculating a similarity score. In our case, we\n",
    "should determine which persons are “similar” to Anne."
   ]
  },
  {
   "cell_type": "markdown",
   "id": "c94fb3a1",
   "metadata": {},
   "source": [
    "#### 2(a) To compute a simple similarity score, we use the Manhattan distance or an Euclidean distance."
   ]
  },
  {
   "cell_type": "markdown",
   "id": "bdef957d",
   "metadata": {},
   "source": [
    "##### Manhattan Distance"
   ]
  },
  {
   "cell_type": "code",
   "execution_count": 217,
   "id": "539f9fba",
   "metadata": {},
   "outputs": [],
   "source": [
    "def sim_distanceManhattan(person1,person2):\n",
    "    distance=0\n",
    "    for movie, rating1 in person1.items():\n",
    "        if (pd.isnull(rating1) or pd.isnull(person2[movie])): \n",
    "            distance+= 0\n",
    "        else:\n",
    "            rating2=person2[movie]\n",
    "            difference = rating2 - rating1\n",
    "            absolute_difference = abs(difference)\n",
    "            distance += absolute_difference        \n",
    "    return distance"
   ]
  },
  {
   "cell_type": "code",
   "execution_count": 218,
   "id": "7e0a6f0d",
   "metadata": {},
   "outputs": [
    {
     "data": {
      "text/plain": [
       "4.5"
      ]
     },
     "execution_count": 218,
     "metadata": {},
     "output_type": "execute_result"
    }
   ],
   "source": [
    "sim_distanceManhattan(Critiques['Lisa Rose'],\n",
    "Critiques['Gene Seymour'])"
   ]
  },
  {
   "cell_type": "markdown",
   "id": "bb56d45e",
   "metadata": {},
   "source": [
    "##### Euclidean Distance"
   ]
  },
  {
   "cell_type": "code",
   "execution_count": 219,
   "id": "b099cc02",
   "metadata": {},
   "outputs": [],
   "source": [
    "def sim_distanceEuclidienne(person1,person2):\n",
    "    distance=0\n",
    "    for movie, rating1 in person1.items():\n",
    "        if (pd.isnull(rating1) or pd.isnull(person2[movie])): \n",
    "            distance+= 0\n",
    "        else:\n",
    "            rating2=person2[movie]\n",
    "            sum2= np.sum(np.square(rating1 - rating2))\n",
    "            distance += sum2        \n",
    "    return np.sqrt(distance)"
   ]
  },
  {
   "cell_type": "code",
   "execution_count": 220,
   "id": "924e1d77",
   "metadata": {},
   "outputs": [
    {
     "data": {
      "text/plain": [
       "2.3979157616563596"
      ]
     },
     "execution_count": 220,
     "metadata": {},
     "output_type": "execute_result"
    }
   ],
   "source": [
    "sim_distanceEuclidienne(Critiques['Lisa Rose'],\n",
    "Critiques['Gene Seymour'])"
   ]
  },
  {
   "cell_type": "markdown",
   "id": "2f77d640",
   "metadata": {},
   "source": [
    "#### 2(b) RecommendNearestNeighbour\n",
    "Anne could just look at the person who has tastes most similar to her and look for a movie he likes that Anne has\n",
    "not seen yet. For each distance above, build the function recommendNearestNeighbor(nouveauCritique, Critiques) returning a list of movies to recommend to the user nouveauCritique, based on the tastes of the critic who is close (similar) to him."
   ]
  },
  {
   "cell_type": "code",
   "execution_count": 221,
   "id": "0c3c8f4c",
   "metadata": {},
   "outputs": [],
   "source": [
    "def computeNearestNeighbor(nouveauCritique, Critiques):\n",
    "    distances=[]\n",
    "    for critique in Critiques:\n",
    "        if critique!=nouveauCritique:\n",
    "            distance=sim_distanceManhattan(Critiques[critique], Critiques[nouveauCritique])\n",
    "            distances.append((distance,critique))\n",
    "    distances.sort()\n",
    "    return distances"
   ]
  },
  {
   "cell_type": "code",
   "execution_count": 222,
   "id": "5784a545",
   "metadata": {},
   "outputs": [
    {
     "data": {
      "text/plain": [
       "[(1.0, 'Anne'),\n",
       " (2.0, 'Michael Phillips'),\n",
       " (2.5, 'Claudia Puig'),\n",
       " (2.5, 'Mick Lasalle'),\n",
       " (3.0, 'Lisa Rose'),\n",
       " (4.0, 'Jack Matthews'),\n",
       " (4.5, 'Gene Seymour')]"
      ]
     },
     "execution_count": 222,
     "metadata": {},
     "output_type": "execute_result"
    }
   ],
   "source": [
    "computeNearestNeighbor('Toby', Critiques)"
   ]
  },
  {
   "cell_type": "code",
   "execution_count": 223,
   "id": "cb18a9af",
   "metadata": {},
   "outputs": [],
   "source": [
    "def recommendNearestNeighbor(nouveauCritique, Critiques):\n",
    "    recommended_movies=[]\n",
    "    nearest_neighbor = computeNearestNeighbor(nouveauCritique, Critiques)[0][1]\n",
    "    print(\"The nearest neighbour of {} is {} \".format(nouveauCritique,nearest_neighbor))\n",
    "    nn_movies = dict([i for i in Critiques[nearest_neighbor].items() if not pd.isna(i[1])])\n",
    "    nc_movies = dict([i for i in Critiques[nouveauCritique].items() if pd.isna(i[1])])\n",
    "    \n",
    "    for movie in nn_movies:\n",
    "        if movie in nc_movies:\n",
    "            recommended_movies.append((movie,nn_movies[movie]))\n",
    "    print(\"The list of movies recommended is\",recommended_movies)\n",
    "    #return recommended_movies"
   ]
  },
  {
   "cell_type": "code",
   "execution_count": 224,
   "id": "73ebd01b",
   "metadata": {},
   "outputs": [
    {
     "data": {
      "text/plain": [
       "[(1.5, 'Michael Phillips'),\n",
       " (2.0, 'Claudia Puig'),\n",
       " (2.5, 'Anne'),\n",
       " (3.0, 'Mick Lasalle'),\n",
       " (3.0, 'Toby'),\n",
       " (3.5, 'Jack Matthews'),\n",
       " (4.5, 'Gene Seymour')]"
      ]
     },
     "execution_count": 224,
     "metadata": {},
     "output_type": "execute_result"
    }
   ],
   "source": [
    "computeNearestNeighbor('Lisa Rose', Critiques)"
   ]
  },
  {
   "cell_type": "code",
   "execution_count": 225,
   "id": "f8efc57b",
   "metadata": {},
   "outputs": [
    {
     "name": "stdout",
     "output_type": "stream",
     "text": [
      "The nearest neighbour of Lisa Rose is Michael Phillips \n",
      "The list of movies recommended is []\n"
     ]
    }
   ],
   "source": [
    "recommendNearestNeighbor('Lisa Rose',Critiques)"
   ]
  },
  {
   "cell_type": "code",
   "execution_count": 226,
   "id": "7d276883",
   "metadata": {},
   "outputs": [
    {
     "data": {
      "text/plain": [
       "[(1.0, 'Anne'),\n",
       " (2.0, 'Michael Phillips'),\n",
       " (2.5, 'Claudia Puig'),\n",
       " (2.5, 'Mick Lasalle'),\n",
       " (3.0, 'Lisa Rose'),\n",
       " (4.0, 'Jack Matthews'),\n",
       " (4.5, 'Gene Seymour')]"
      ]
     },
     "execution_count": 226,
     "metadata": {},
     "output_type": "execute_result"
    }
   ],
   "source": [
    "computeNearestNeighbor('Toby', Critiques)"
   ]
  },
  {
   "cell_type": "code",
   "execution_count": 227,
   "id": "3e3fccb2",
   "metadata": {},
   "outputs": [
    {
     "name": "stdout",
     "output_type": "stream",
     "text": [
      "The nearest neighbour of Anne is Michael Phillips \n",
      "The list of movies recommended is [('Snakes', 3.0), ('Superman', 3.5), ('Night', 4.0)]\n"
     ]
    }
   ],
   "source": [
    "recommendNearestNeighbor('Anne',Critiques)"
   ]
  },
  {
   "cell_type": "markdown",
   "id": "7261bd72",
   "metadata": {},
   "source": [
    "#### 2(c) Solve the limitations of 2(b)\n",
    "To solve the previous limitations, you need to score the items by producing a weighted score (global score) that\n",
    "ranks the critics. The procedure which determine the recommendations to suggest to Anne is describe in two\n",
    "steps below. For a given movie a, let us denote by C(a) the list of all the critics which gave a rating to a, and x(a)\n",
    "the rating given to a by the critic x.\n"
   ]
  },
  {
   "cell_type": "markdown",
   "id": "83eac049",
   "metadata": {},
   "source": [
    "##### Global Score by using Euclidienne Distance "
   ]
  },
  {
   "cell_type": "code",
   "execution_count": 228,
   "id": "f90e243d",
   "metadata": {},
   "outputs": [],
   "source": [
    "#calculate the global score of each unwatched movies with Euclidienne Distance\n",
    "def movie_scoreED(person, movie, Critiques):\n",
    "    global_score = 0\n",
    "    score = 0\n",
    "    for i in Critiques.items():\n",
    "        if not pd.isnull(i[1][movie]):\n",
    "            global_score += i[1][movie] / (1+sim_distanceEuclidienne(Critiques[person], i[1]))\n",
    "            score += 1 / (1+sim_distanceEuclidienne(Critiques[person], i[1]))\n",
    "    return global_score / score"
   ]
  },
  {
   "cell_type": "code",
   "execution_count": 229,
   "id": "61f02661",
   "metadata": {},
   "outputs": [
    {
     "data": {
      "text/plain": [
       "3.5462185630243064"
      ]
     },
     "execution_count": 229,
     "metadata": {},
     "output_type": "execute_result"
    }
   ],
   "source": [
    "movie_scoreED(\"Anne\", \"Night\", Critiques)"
   ]
  },
  {
   "cell_type": "markdown",
   "id": "8a3a4e06",
   "metadata": {},
   "source": [
    "##### Global Score by using Manhattan Distance"
   ]
  },
  {
   "cell_type": "code",
   "execution_count": 230,
   "id": "515faf1a",
   "metadata": {},
   "outputs": [],
   "source": [
    "#calculate the global score of each unwatched movies with ManhattanDistance\n",
    "def movie_score(person, movie, Critiques):\n",
    "    global_score = 0\n",
    "    score = 0\n",
    "    for i in Critiques.items():\n",
    "        if not pd.isnull(i[1][movie]):\n",
    "            global_score += i[1][movie] / (1+sim_distanceManhattan(Critiques[person], i[1]))\n",
    "            score += 1 / (1+sim_distanceManhattan(Critiques[person], i[1]))\n",
    "    return global_score / score\n"
   ]
  },
  {
   "cell_type": "code",
   "execution_count": 231,
   "id": "bf6b3ec0",
   "metadata": {},
   "outputs": [
    {
     "data": {
      "text/plain": [
       "3.6071368399770862"
      ]
     },
     "execution_count": 231,
     "metadata": {},
     "output_type": "execute_result"
    }
   ],
   "source": [
    "movie_score(\"Anne\", \"Night\", Critiques)"
   ]
  },
  {
   "cell_type": "markdown",
   "id": "651d829c",
   "metadata": {},
   "source": [
    "##### 2(c) (i) A Bestrecommend by Using Manhattan and Euclidean Distance\n",
    "From these explanations, by using Manhattan and Euclidean distances, build the function Bestrecommend\n",
    "suggesting to Anne a recommendation between the three movies “Snakes”, “Superman” and “Night”."
   ]
  },
  {
   "cell_type": "code",
   "execution_count": 232,
   "id": "84d324b6",
   "metadata": {},
   "outputs": [],
   "source": [
    "#a fucntion to find a list of unwatched movies\n",
    "def get_unwatched_movies(person, Critiques):\n",
    "    unwatched_movies=[]\n",
    "    for i in Critiques[person].items():\n",
    "        if pd.isnull(i[1]):\n",
    "            unwatched_movies.append(i[0])\n",
    "    return unwatched_movies"
   ]
  },
  {
   "cell_type": "code",
   "execution_count": 233,
   "id": "64112660",
   "metadata": {},
   "outputs": [
    {
     "data": {
      "text/plain": [
       "['Snakes', 'Superman', 'Night']"
      ]
     },
     "execution_count": 233,
     "metadata": {},
     "output_type": "execute_result"
    }
   ],
   "source": [
    "get_unwatched_movies('Anne',Critiques)"
   ]
  },
  {
   "cell_type": "markdown",
   "id": "91fe9476",
   "metadata": {},
   "source": [
    "###### BestRecommend by Euclidean Distance "
   ]
  },
  {
   "cell_type": "code",
   "execution_count": 234,
   "id": "04680b95",
   "metadata": {},
   "outputs": [],
   "source": [
    "def Bestrecommend2(person, Critiques):\n",
    "    recommend_movies=[]\n",
    "    for movie in get_unwatched_movies(person, Critiques):\n",
    "        global_score = movie_scoreED(person, movie, Critiques)\n",
    "        recommend_movies.append((global_score,movie))\n",
    "    print(recommend_movies) \n",
    "    return sorted(recommend_movies)[-1][1]"
   ]
  },
  {
   "cell_type": "code",
   "execution_count": 235,
   "id": "c67b8559",
   "metadata": {},
   "outputs": [
    {
     "name": "stdout",
     "output_type": "stream",
     "text": [
      "[(3.7039297694065687, 'Snakes'), (3.933028718913866, 'Superman'), (3.5462185630243064, 'Night')]\n"
     ]
    },
    {
     "data": {
      "text/plain": [
       "'Superman'"
      ]
     },
     "execution_count": 235,
     "metadata": {},
     "output_type": "execute_result"
    }
   ],
   "source": [
    "Bestrecommend2(\"Anne\", Critiques)"
   ]
  },
  {
   "cell_type": "markdown",
   "id": "fa482313",
   "metadata": {},
   "source": [
    "###### BestRecommend by Manhattan Distance "
   ]
  },
  {
   "cell_type": "code",
   "execution_count": 236,
   "id": "8e1de4fc",
   "metadata": {},
   "outputs": [],
   "source": [
    "def Bestrecommend(person, Critiques):\n",
    "    recommend_movies=[]\n",
    "    for movie in get_unwatched_movies(person, Critiques):\n",
    "        global_score = movie_score(person, movie, Critiques)\n",
    "        recommend_movies.append((global_score,movie))\n",
    "    print(recommend_movies)\n",
    "    return sorted(recommend_movies)[-1][1]"
   ]
  },
  {
   "cell_type": "code",
   "execution_count": 237,
   "id": "f6c21b33",
   "metadata": {},
   "outputs": [
    {
     "name": "stdout",
     "output_type": "stream",
     "text": [
      "[(3.7102754377162173, 'Snakes'), (3.908627564898196, 'Superman'), (3.6071368399770862, 'Night')]\n"
     ]
    },
    {
     "data": {
      "text/plain": [
       "'Superman'"
      ]
     },
     "execution_count": 237,
     "metadata": {},
     "output_type": "execute_result"
    }
   ],
   "source": [
    "Bestrecommend(\"Anne\", Critiques)"
   ]
  },
  {
   "cell_type": "markdown",
   "id": "803b1d51",
   "metadata": {},
   "source": [
    "#### 2(c) (ii) BestrecommendwithExp\n",
    "By replacing the weights 1/(1+d(x,Anne) in the previous formula, by exp−d(x,Anne), build the function\n",
    "BestrecommendwithExp suggesting to Anne a recommendation between the three movies “Snakes”,“Superman” and “Night”."
   ]
  },
  {
   "cell_type": "code",
   "execution_count": 238,
   "id": "dd0f6780",
   "metadata": {},
   "outputs": [],
   "source": [
    "def movie_score_exp(person, movie, Critiques):\n",
    "    global_score = 0\n",
    "    score = 0\n",
    "    for i in Critiques.items():\n",
    "        if not pd.isnull(i[1][movie]):\n",
    "            global_score += i[1][movie] * math.exp(-1* sim_distanceManhattan(Critiques[person], i[1]))\n",
    "            score += math.exp(-1* sim_distanceManhattan(Critiques[person], i[1]))\n",
    "    return global_score / score"
   ]
  },
  {
   "cell_type": "code",
   "execution_count": 239,
   "id": "d97b42f4",
   "metadata": {},
   "outputs": [
    {
     "data": {
      "text/plain": [
       "3.821068742837592"
      ]
     },
     "execution_count": 239,
     "metadata": {},
     "output_type": "execute_result"
    }
   ],
   "source": [
    "movie_score_exp('Anne','Superman',Critiques)"
   ]
  },
  {
   "cell_type": "code",
   "execution_count": 240,
   "id": "24f40b00",
   "metadata": {},
   "outputs": [],
   "source": [
    "def BestrecommendwithExp(person, Critiques):\n",
    "    recommend_movies=[]\n",
    "    for movie in get_unwatched_movies(person, Critiques):\n",
    "        global_score = movie_score_exp(person, movie, Critiques)\n",
    "        recommend_movies.append((global_score,movie))\n",
    "    print(recommend_movies)\n",
    "    return sorted(recommend_movies)[-1][1]"
   ]
  },
  {
   "cell_type": "code",
   "execution_count": 241,
   "id": "018dc516",
   "metadata": {},
   "outputs": [
    {
     "name": "stdout",
     "output_type": "stream",
     "text": [
      "[(3.699042610620127, 'Snakes'), (3.821068742837592, 'Superman'), (3.927900678942954, 'Night')]\n"
     ]
    },
    {
     "data": {
      "text/plain": [
       "'Night'"
      ]
     },
     "execution_count": 241,
     "metadata": {},
     "output_type": "execute_result"
    }
   ],
   "source": [
    "BestrecommendwithExp(\"Anne\", Critiques)"
   ]
  },
  {
   "cell_type": "markdown",
   "id": "8fc37342",
   "metadata": {},
   "source": [
    "#### 2(d) Similarity between people’s interests is to use a Pearson Correlation Coefficient\n",
    "A slightly more sophisticated way to determine the similarity between people’s interests is to use a Pearson\n",
    "correlation coefficient. The correlation coefficient is a measure of how well two sets of data fit on a straight line.\n",
    "The formula for this is more complicated than the Euclidean distance score, but it tends to give better results in\n",
    "situations where the data is not well normalized for example, if critics’ movie rankings are routinely more harsh\n",
    "than average. "
   ]
  },
  {
   "cell_type": "code",
   "execution_count": 242,
   "id": "698b33cc",
   "metadata": {},
   "outputs": [],
   "source": [
    "#pearson correlation coefficient\n",
    "def pearson(person1, person2):\n",
    "    sum_xy = 0\n",
    "    sum_x, sum_y = 0, 0\n",
    "    sum_x2, sum_y2 = 0, 0\n",
    "    n = 0\n",
    "    for key in person1:\n",
    "        if key in person2:\n",
    "            if not (pd.isnull(person1[key]) or pd.isnull(person2[key])):\n",
    "                n += 1\n",
    "                x=person1[key]\n",
    "                y=person2[key]\n",
    "                sum_xy +=x*y\n",
    "                sum_x += x\n",
    "                sum_y += y\n",
    "                sum_x2 += x**2\n",
    "                sum_y2 += y**2\n",
    "    denominator = np.sqrt(sum_x2 - (sum_x**2) / n) * np.sqrt(sum_y2 - (sum_y**2) / n)\n",
    "    if denominator == 0:\n",
    "        return 0\n",
    "    else:\n",
    "        return (sum_xy - (sum_x * sum_y) / n) / denominator"
   ]
  },
  {
   "cell_type": "code",
   "execution_count": 243,
   "id": "f306d649",
   "metadata": {},
   "outputs": [
    {
     "data": {
      "text/plain": [
       "0.39605901719066977"
      ]
     },
     "execution_count": 243,
     "metadata": {},
     "output_type": "execute_result"
    }
   ],
   "source": [
    "#testing pearson coefficient\n",
    "pearson(Critiques['Lisa Rose'],Critiques['Gene Seymour'])"
   ]
  },
  {
   "cell_type": "code",
   "execution_count": 244,
   "id": "3d07e01e",
   "metadata": {},
   "outputs": [],
   "source": [
    "#calculating global score with pearson coeficient\n",
    "def pearson_movie_score(person, movie, Critiques):\n",
    "    global_score = 0\n",
    "    score = 0\n",
    "    for i in Critiques.items():\n",
    "        if not pd.isnull(i[1][movie]):\n",
    "            global_score += i[1][movie] / (1+pearson(Critiques[person], i[1]))\n",
    "            score += 1 / (1+pearson(Critiques[person], i[1]))\n",
    "    return global_score / score"
   ]
  },
  {
   "cell_type": "code",
   "execution_count": 245,
   "id": "cd23d7f1",
   "metadata": {},
   "outputs": [],
   "source": [
    "def PearsonRecommend(person,Critiques):\n",
    "    recommend_movies=[]\n",
    "    for movie in get_unwatched_movies(person, Critiques):\n",
    "        global_score = pearson_movie_score(person, movie, Critiques)\n",
    "        recommend_movies.append((global_score,movie))\n",
    "    print(recommend_movies)\n",
    "    return sorted(recommend_movies)[-1][1]"
   ]
  },
  {
   "cell_type": "code",
   "execution_count": 246,
   "id": "b18d0fc7",
   "metadata": {},
   "outputs": [
    {
     "name": "stdout",
     "output_type": "stream",
     "text": [
      "[(3.627402308844829, 'Snakes'), (4.446519851865466, 'Superman'), (3.107685434763305, 'Night')]\n"
     ]
    },
    {
     "data": {
      "text/plain": [
       "'Superman'"
      ]
     },
     "execution_count": 246,
     "metadata": {},
     "output_type": "execute_result"
    }
   ],
   "source": [
    "PearsonRecommend(\"Anne\", Critiques)"
   ]
  },
  {
   "cell_type": "markdown",
   "id": "2e8c4c13",
   "metadata": {},
   "source": [
    "#### 2(e) Compute the function CosineRecommend\n",
    "Suggesting to Anne, by using the Cosine correlation coefficient, a recommendation between the three movies “Snakes”, “Superman” and “Night”. "
   ]
  },
  {
   "cell_type": "code",
   "execution_count": 247,
   "id": "39a891b0",
   "metadata": {},
   "outputs": [],
   "source": [
    "def cosineCoefficient(person1,person2):\n",
    "    for key in person1:\n",
    "        if key in person2:\n",
    "            if not (pd.isnull(person1[key]) or pd.isnull(person2[key])):\n",
    "                x ,y =person1[key], person2[key]\n",
    "                #print(x,y)\n",
    "    return np.dot(x,y)/(norm(x)*norm(y))   "
   ]
  },
  {
   "cell_type": "code",
   "execution_count": 248,
   "id": "38071413",
   "metadata": {},
   "outputs": [],
   "source": [
    "#calculating global score with cosine coeficient\n",
    "def cosine_movie_score(person, movie, Critiques):\n",
    "    global_score = 0\n",
    "    score = 0\n",
    "    for i in Critiques.items():\n",
    "        if not pd.isnull(i[1][movie]):\n",
    "            global_score += i[1][movie] / (1+cosineCoefficient(Critiques[person], i[1]))\n",
    "            score += 1 / (1+cosineCoefficient(Critiques[person], i[1]))\n",
    "    return global_score / score"
   ]
  },
  {
   "cell_type": "code",
   "execution_count": 249,
   "id": "0c3bede8",
   "metadata": {},
   "outputs": [],
   "source": [
    "def CosineRecommend(person,Critiques):\n",
    "    recommend_movies=[]\n",
    "    for movie in get_unwatched_movies(person, Critiques):\n",
    "        global_score = cosine_movie_score(person, movie, Critiques)\n",
    "        recommend_movies.append((global_score,movie))\n",
    "    print(recommend_movies)\n",
    "    return sorted(recommend_movies)[-1][1]"
   ]
  },
  {
   "cell_type": "code",
   "execution_count": 250,
   "id": "4033a131",
   "metadata": {},
   "outputs": [
    {
     "name": "stdout",
     "output_type": "stream",
     "text": [
      "[(3.7142857142857144, 'Snakes'), (4.0, 'Superman'), (3.4166666666666665, 'Night')]\n"
     ]
    },
    {
     "data": {
      "text/plain": [
       "'Superman'"
      ]
     },
     "execution_count": 250,
     "metadata": {},
     "output_type": "execute_result"
    }
   ],
   "source": [
    "CosineRecommend(\"Anne\",Critiques)"
   ]
  },
  {
   "cell_type": "markdown",
   "id": "495a69e5",
   "metadata": {},
   "source": [
    "### 3. Which songs will you recommend to Veronica? To Hailey?\n",
    "Test again, all your previous functionalities through the following example with 8 music critics (Angelica, Bill, . . .) and 8 songs (Blues Travelers, Broken Bells, . . .). Which songs you can recommend to Veronica ? To Hailey?"
   ]
  },
  {
   "cell_type": "code",
   "execution_count": 251,
   "id": "db97c51e",
   "metadata": {},
   "outputs": [
    {
     "data": {
      "text/html": [
       "<div>\n",
       "<style scoped>\n",
       "    .dataframe tbody tr th:only-of-type {\n",
       "        vertical-align: middle;\n",
       "    }\n",
       "\n",
       "    .dataframe tbody tr th {\n",
       "        vertical-align: top;\n",
       "    }\n",
       "\n",
       "    .dataframe thead th {\n",
       "        text-align: right;\n",
       "    }\n",
       "</style>\n",
       "<table border=\"1\" class=\"dataframe\">\n",
       "  <thead>\n",
       "    <tr style=\"text-align: right;\">\n",
       "      <th></th>\n",
       "      <th>Angelica</th>\n",
       "      <th>Bill</th>\n",
       "      <th>Chan</th>\n",
       "      <th>Dan</th>\n",
       "      <th>Hailey</th>\n",
       "      <th>Jordyn</th>\n",
       "      <th>Sam</th>\n",
       "      <th>Veronica</th>\n",
       "    </tr>\n",
       "  </thead>\n",
       "  <tbody>\n",
       "    <tr>\n",
       "      <th>Blues Traveler</th>\n",
       "      <td>3.5</td>\n",
       "      <td>2.0</td>\n",
       "      <td>5.0</td>\n",
       "      <td>3.0</td>\n",
       "      <td>NaN</td>\n",
       "      <td>NaN</td>\n",
       "      <td>5.0</td>\n",
       "      <td>3.0</td>\n",
       "    </tr>\n",
       "    <tr>\n",
       "      <th>Broken Bells</th>\n",
       "      <td>2.0</td>\n",
       "      <td>3.5</td>\n",
       "      <td>1.0</td>\n",
       "      <td>4.0</td>\n",
       "      <td>4.0</td>\n",
       "      <td>4.5</td>\n",
       "      <td>2.0</td>\n",
       "      <td>NaN</td>\n",
       "    </tr>\n",
       "    <tr>\n",
       "      <th>Deadmau5</th>\n",
       "      <td>NaN</td>\n",
       "      <td>4.0</td>\n",
       "      <td>1.0</td>\n",
       "      <td>4.5</td>\n",
       "      <td>1.0</td>\n",
       "      <td>4.0</td>\n",
       "      <td>NaN</td>\n",
       "      <td>NaN</td>\n",
       "    </tr>\n",
       "    <tr>\n",
       "      <th>Norah Jones</th>\n",
       "      <td>4.5</td>\n",
       "      <td>NaN</td>\n",
       "      <td>3.0</td>\n",
       "      <td>NaN</td>\n",
       "      <td>4.0</td>\n",
       "      <td>5.0</td>\n",
       "      <td>3.0</td>\n",
       "      <td>5.0</td>\n",
       "    </tr>\n",
       "    <tr>\n",
       "      <th>Phoenix</th>\n",
       "      <td>5.0</td>\n",
       "      <td>2.0</td>\n",
       "      <td>5.0</td>\n",
       "      <td>3.0</td>\n",
       "      <td>NaN</td>\n",
       "      <td>5.0</td>\n",
       "      <td>5.0</td>\n",
       "      <td>4.0</td>\n",
       "    </tr>\n",
       "    <tr>\n",
       "      <th>Slightly Stoopid</th>\n",
       "      <td>1.5</td>\n",
       "      <td>3.5</td>\n",
       "      <td>1.0</td>\n",
       "      <td>4.5</td>\n",
       "      <td>NaN</td>\n",
       "      <td>4.5</td>\n",
       "      <td>4.0</td>\n",
       "      <td>2.5</td>\n",
       "    </tr>\n",
       "    <tr>\n",
       "      <th>The Strokes</th>\n",
       "      <td>2.5</td>\n",
       "      <td>NaN</td>\n",
       "      <td>NaN</td>\n",
       "      <td>4.0</td>\n",
       "      <td>4.0</td>\n",
       "      <td>4.0</td>\n",
       "      <td>5.0</td>\n",
       "      <td>3.0</td>\n",
       "    </tr>\n",
       "    <tr>\n",
       "      <th>Vampire Weekend</th>\n",
       "      <td>2.0</td>\n",
       "      <td>3.0</td>\n",
       "      <td>NaN</td>\n",
       "      <td>2.0</td>\n",
       "      <td>1.0</td>\n",
       "      <td>4.0</td>\n",
       "      <td>NaN</td>\n",
       "      <td>NaN</td>\n",
       "    </tr>\n",
       "  </tbody>\n",
       "</table>\n",
       "</div>"
      ],
      "text/plain": [
       "                  Angelica  Bill  Chan  Dan  Hailey  Jordyn  Sam  Veronica\n",
       "Blues Traveler         3.5   2.0   5.0  3.0     NaN     NaN  5.0       3.0\n",
       "Broken Bells           2.0   3.5   1.0  4.0     4.0     4.5  2.0       NaN\n",
       "Deadmau5               NaN   4.0   1.0  4.5     1.0     4.0  NaN       NaN\n",
       "Norah Jones            4.5   NaN   3.0  NaN     4.0     5.0  3.0       5.0\n",
       "Phoenix                5.0   2.0   5.0  3.0     NaN     5.0  5.0       4.0\n",
       "Slightly Stoopid       1.5   3.5   1.0  4.5     NaN     4.5  4.0       2.5\n",
       "The Strokes            2.5   NaN   NaN  4.0     4.0     4.0  5.0       3.0\n",
       "Vampire Weekend        2.0   3.0   NaN  2.0     1.0     4.0  NaN       NaN"
      ]
     },
     "execution_count": 251,
     "metadata": {},
     "output_type": "execute_result"
    }
   ],
   "source": [
    "#read the file\n",
    "df = pd.read_csv(r'data\\music.csv', delimiter=',',index_col=0)\n",
    "df"
   ]
  },
  {
   "cell_type": "code",
   "execution_count": 252,
   "id": "b4d4bb9c",
   "metadata": {},
   "outputs": [],
   "source": [
    "#Convert data frame to dictionaries\n",
    "music_critiques =df.to_dict()"
   ]
  },
  {
   "cell_type": "code",
   "execution_count": 253,
   "id": "6372d647",
   "metadata": {},
   "outputs": [
    {
     "data": {
      "text/plain": [
       "{'Blues Traveler': 3.0,\n",
       " 'Broken Bells': nan,\n",
       " 'Deadmau5': nan,\n",
       " 'Norah Jones': 5.0,\n",
       " 'Phoenix': 4.0,\n",
       " 'Slightly Stoopid': 2.5,\n",
       " 'The Strokes': 3.0,\n",
       " 'Vampire Weekend': nan}"
      ]
     },
     "execution_count": 253,
     "metadata": {},
     "output_type": "execute_result"
    }
   ],
   "source": [
    "music_critiques['Veronica']"
   ]
  },
  {
   "cell_type": "markdown",
   "id": "355d7489",
   "metadata": {},
   "source": [
    "#### (a) Songs Recommendation to Veronica "
   ]
  },
  {
   "cell_type": "markdown",
   "id": "0c7b2b4e",
   "metadata": {},
   "source": [
    "##### Recommendation of songs based on NearestNeighbor"
   ]
  },
  {
   "cell_type": "code",
   "execution_count": 254,
   "id": "ffeafbf1",
   "metadata": {},
   "outputs": [
    {
     "name": "stdout",
     "output_type": "stream",
     "text": [
      "The nearest neighbour of Veronica is Hailey \n",
      "The list of movies recommended is [('Broken Bells', 4.0), ('Deadmau5', 1.0), ('Vampire Weekend', 1.0)]\n"
     ]
    }
   ],
   "source": [
    "recommendNearestNeighbor('Veronica',music_critiques) "
   ]
  },
  {
   "cell_type": "markdown",
   "id": "f233d5f3",
   "metadata": {},
   "source": [
    "##### Recommendation of songs based on BestRecommend with Manhattan Distance "
   ]
  },
  {
   "cell_type": "code",
   "execution_count": 255,
   "id": "c7666081",
   "metadata": {},
   "outputs": [
    {
     "name": "stdout",
     "output_type": "stream",
     "text": [
      "[(3.243288590604027, 'Broken Bells'), (2.78125, 'Deadmau5'), (2.230769230769231, 'Vampire Weekend')]\n"
     ]
    },
    {
     "data": {
      "text/plain": [
       "'Broken Bells'"
      ]
     },
     "execution_count": 255,
     "metadata": {},
     "output_type": "execute_result"
    }
   ],
   "source": [
    "Bestrecommend('Veronica',music_critiques)"
   ]
  },
  {
   "cell_type": "markdown",
   "id": "7107632c",
   "metadata": {},
   "source": [
    "#####  Recommendation of songs based on BestRecommend with Euclidean  Distance "
   ]
  },
  {
   "cell_type": "code",
   "execution_count": 256,
   "id": "ab89d9c0",
   "metadata": {},
   "outputs": [
    {
     "name": "stdout",
     "output_type": "stream",
     "text": [
      "[(3.11679444654491, 'Broken Bells'), (2.8195523097548674, 'Deadmau5'), (2.2743715116949708, 'Vampire Weekend')]\n"
     ]
    },
    {
     "data": {
      "text/plain": [
       "'Broken Bells'"
      ]
     },
     "execution_count": 256,
     "metadata": {},
     "output_type": "execute_result"
    }
   ],
   "source": [
    "Bestrecommend2('Veronica',music_critiques)"
   ]
  },
  {
   "cell_type": "markdown",
   "id": "88c35cac",
   "metadata": {},
   "source": [
    "##### Recommendation of songs based on BestrecommendwithExp   "
   ]
  },
  {
   "cell_type": "code",
   "execution_count": 257,
   "id": "dcf81684",
   "metadata": {},
   "outputs": [
    {
     "name": "stdout",
     "output_type": "stream",
     "text": [
      "[(3.7060486400373835, 'Broken Bells'), (1.907255466380703, 'Deadmau5'), (1.6353931490705687, 'Vampire Weekend')]\n"
     ]
    },
    {
     "data": {
      "text/plain": [
       "'Broken Bells'"
      ]
     },
     "execution_count": 257,
     "metadata": {},
     "output_type": "execute_result"
    }
   ],
   "source": [
    "BestrecommendwithExp('Veronica',music_critiques)"
   ]
  },
  {
   "cell_type": "markdown",
   "id": "ef1c6c53",
   "metadata": {},
   "source": [
    "##### Recommendation of songs based on  PearsonRecommend"
   ]
  },
  {
   "cell_type": "code",
   "execution_count": 258,
   "id": "854100db",
   "metadata": {},
   "outputs": [
    {
     "name": "stdout",
     "output_type": "stream",
     "text": [
      "[(3.266135240747718, 'Broken Bells'), (3.679955010191387, 'Deadmau5'), (2.414911389671949, 'Vampire Weekend')]\n"
     ]
    },
    {
     "data": {
      "text/plain": [
       "'Deadmau5'"
      ]
     },
     "execution_count": 258,
     "metadata": {},
     "output_type": "execute_result"
    }
   ],
   "source": [
    "PearsonRecommend('Veronica',music_critiques)"
   ]
  },
  {
   "cell_type": "markdown",
   "id": "5002efca",
   "metadata": {},
   "source": [
    "##### Recommendation of songs based on CosineRecommend "
   ]
  },
  {
   "cell_type": "code",
   "execution_count": 259,
   "id": "e554e816",
   "metadata": {},
   "outputs": [
    {
     "name": "stdout",
     "output_type": "stream",
     "text": [
      "[(3.0, 'Broken Bells'), (2.9, 'Deadmau5'), (2.4, 'Vampire Weekend')]\n"
     ]
    },
    {
     "data": {
      "text/plain": [
       "'Broken Bells'"
      ]
     },
     "execution_count": 259,
     "metadata": {},
     "output_type": "execute_result"
    }
   ],
   "source": [
    "CosineRecommend('Veronica',music_critiques)"
   ]
  },
  {
   "cell_type": "markdown",
   "id": "ac8b751e",
   "metadata": {},
   "source": [
    "#### Songs Recommendation to Hailey "
   ]
  },
  {
   "cell_type": "markdown",
   "id": "09ad47ba",
   "metadata": {},
   "source": [
    "##### Recommendation of songs based on NearestNeighbor"
   ]
  },
  {
   "cell_type": "code",
   "execution_count": 260,
   "id": "d1fa9ebd",
   "metadata": {},
   "outputs": [
    {
     "name": "stdout",
     "output_type": "stream",
     "text": [
      "The nearest neighbour of Hailey is Veronica \n",
      "The list of movies recommended is [('Blues Traveler', 3.0), ('Phoenix', 4.0), ('Slightly Stoopid', 2.5)]\n"
     ]
    }
   ],
   "source": [
    "recommendNearestNeighbor('Hailey',music_critiques) "
   ]
  },
  {
   "cell_type": "markdown",
   "id": "01f89240",
   "metadata": {},
   "source": [
    "##### Recommendation of songs based on BestRecommend with Manhattan Distance "
   ]
  },
  {
   "cell_type": "code",
   "execution_count": 261,
   "id": "f367c9ca",
   "metadata": {},
   "outputs": [
    {
     "name": "stdout",
     "output_type": "stream",
     "text": [
      "[(3.59036030937559, 'Blues Traveler'), (4.1439456113154405, 'Phoenix'), (2.9330932044540363, 'Slightly Stoopid')]\n"
     ]
    },
    {
     "data": {
      "text/plain": [
       "'Phoenix'"
      ]
     },
     "execution_count": 261,
     "metadata": {},
     "output_type": "execute_result"
    }
   ],
   "source": [
    "Bestrecommend('Hailey',music_critiques)"
   ]
  },
  {
   "cell_type": "markdown",
   "id": "2bb3047f",
   "metadata": {},
   "source": [
    "#####  Recommendation of songs based on BestRecommend with Euclidean  Distance "
   ]
  },
  {
   "cell_type": "code",
   "execution_count": 262,
   "id": "9b254f08",
   "metadata": {},
   "outputs": [
    {
     "name": "stdout",
     "output_type": "stream",
     "text": [
      "[(3.5956193126180254, 'Blues Traveler'), (4.184141896852117, 'Phoenix'), (2.951062994818188, 'Slightly Stoopid')]\n"
     ]
    },
    {
     "data": {
      "text/plain": [
       "'Phoenix'"
      ]
     },
     "execution_count": 262,
     "metadata": {},
     "output_type": "execute_result"
    }
   ],
   "source": [
    "Bestrecommend2('Hailey',music_critiques)"
   ]
  },
  {
   "cell_type": "markdown",
   "id": "42388e36",
   "metadata": {},
   "source": [
    "##### Recommendation of songs based on BestrecommendwithExp "
   ]
  },
  {
   "cell_type": "code",
   "execution_count": 263,
   "id": "2cdeb3ba",
   "metadata": {},
   "outputs": [
    {
     "name": "stdout",
     "output_type": "stream",
     "text": [
      "[(3.374134370081063, 'Blues Traveler'), (4.1267130055552235, 'Phoenix'), (2.6063133402163063, 'Slightly Stoopid')]\n"
     ]
    },
    {
     "data": {
      "text/plain": [
       "'Phoenix'"
      ]
     },
     "execution_count": 263,
     "metadata": {},
     "output_type": "execute_result"
    }
   ],
   "source": [
    "BestrecommendwithExp('Hailey',music_critiques)"
   ]
  },
  {
   "cell_type": "markdown",
   "id": "2403a84f",
   "metadata": {},
   "source": [
    "##### Recommendation of songs based on  PearsonRecommend "
   ]
  },
  {
   "cell_type": "code",
   "execution_count": 264,
   "id": "ddf4247c",
   "metadata": {},
   "outputs": [
    {
     "name": "stdout",
     "output_type": "stream",
     "text": [
      "[(3.527590349695004, 'Blues Traveler'), (4.047620727589134, 'Phoenix'), (3.1084718098167707, 'Slightly Stoopid')]\n"
     ]
    },
    {
     "data": {
      "text/plain": [
       "'Phoenix'"
      ]
     },
     "execution_count": 264,
     "metadata": {},
     "output_type": "execute_result"
    }
   ],
   "source": [
    "PearsonRecommend('Hailey',music_critiques)"
   ]
  },
  {
   "cell_type": "markdown",
   "id": "97747908",
   "metadata": {},
   "source": [
    " ##### Recommendation of songs based on CosineRecommend  "
   ]
  },
  {
   "cell_type": "code",
   "execution_count": 265,
   "id": "cd93791e",
   "metadata": {},
   "outputs": [
    {
     "name": "stdout",
     "output_type": "stream",
     "text": [
      "[(3.5833333333333335, 'Blues Traveler'), (4.142857142857143, 'Phoenix'), (3.0714285714285716, 'Slightly Stoopid')]\n"
     ]
    },
    {
     "data": {
      "text/plain": [
       "'Phoenix'"
      ]
     },
     "execution_count": 265,
     "metadata": {},
     "output_type": "execute_result"
    }
   ],
   "source": [
    "CosineRecommend('Hailey',music_critiques)"
   ]
  },
  {
   "cell_type": "markdown",
   "id": "1ef39bc5",
   "metadata": {},
   "source": [
    "### 4. Movies recommendations with critics(n) >=10 and movies(m)>=10\n",
    "Elaborate your own example with n critics (n >= 10) and m movies (m >= 10) where the recommendations given to\n",
    "the one of these critics (who has not seen at least half of the movies), based on at least 5 different similarity measures\n",
    "(including Pearson and Cosine similarity measures), are completely different from each other. The number of missing\n",
    "data (the empty cells in your evaluation matrix) should be between 30% and 50 % of the total of the matrix’s cells.\n",
    "\n",
    "In this questions we have generate a data with 16 people and their critics on the 16 movies. The dataset consist of 83 empty cells which is 33% of the whole dataset."
   ]
  },
  {
   "cell_type": "code",
   "execution_count": 266,
   "id": "6a33c17a",
   "metadata": {},
   "outputs": [
    {
     "data": {
      "text/html": [
       "<div>\n",
       "<style scoped>\n",
       "    .dataframe tbody tr th:only-of-type {\n",
       "        vertical-align: middle;\n",
       "    }\n",
       "\n",
       "    .dataframe tbody tr th {\n",
       "        vertical-align: top;\n",
       "    }\n",
       "\n",
       "    .dataframe thead th {\n",
       "        text-align: right;\n",
       "    }\n",
       "</style>\n",
       "<table border=\"1\" class=\"dataframe\">\n",
       "  <thead>\n",
       "    <tr style=\"text-align: right;\">\n",
       "      <th></th>\n",
       "      <th>Fatmah</th>\n",
       "      <th>Hajra</th>\n",
       "      <th>Mahsan</th>\n",
       "      <th>Hassan</th>\n",
       "      <th>Asha</th>\n",
       "      <th>Said</th>\n",
       "      <th>Ahmed</th>\n",
       "      <th>Zuwena</th>\n",
       "      <th>Awena</th>\n",
       "      <th>Sabah</th>\n",
       "      <th>Seif</th>\n",
       "      <th>Salim</th>\n",
       "      <th>Anwar</th>\n",
       "      <th>Hannan</th>\n",
       "      <th>Ilham</th>\n",
       "      <th>Ariff</th>\n",
       "    </tr>\n",
       "  </thead>\n",
       "  <tbody>\n",
       "    <tr>\n",
       "      <th>The lovers</th>\n",
       "      <td>3.5</td>\n",
       "      <td>NaN</td>\n",
       "      <td>3.0</td>\n",
       "      <td>3.5</td>\n",
       "      <td>4.0</td>\n",
       "      <td>3.0</td>\n",
       "      <td>2.5</td>\n",
       "      <td>3.0</td>\n",
       "      <td>4.0</td>\n",
       "      <td>2.5</td>\n",
       "      <td>3.0</td>\n",
       "      <td>4.5</td>\n",
       "      <td>3.5</td>\n",
       "      <td>3.0</td>\n",
       "      <td>NaN</td>\n",
       "      <td>4.0</td>\n",
       "    </tr>\n",
       "    <tr>\n",
       "      <th>Eat me more</th>\n",
       "      <td>4.0</td>\n",
       "      <td>NaN</td>\n",
       "      <td>3.0</td>\n",
       "      <td>4.0</td>\n",
       "      <td>3.5</td>\n",
       "      <td>2.5</td>\n",
       "      <td>3.6</td>\n",
       "      <td>4.5</td>\n",
       "      <td>3.0</td>\n",
       "      <td>NaN</td>\n",
       "      <td>2.5</td>\n",
       "      <td>3.5</td>\n",
       "      <td>3.6</td>\n",
       "      <td>3.0</td>\n",
       "      <td>4.5</td>\n",
       "      <td>NaN</td>\n",
       "    </tr>\n",
       "    <tr>\n",
       "      <th>Herois</th>\n",
       "      <td>3.5</td>\n",
       "      <td>NaN</td>\n",
       "      <td>NaN</td>\n",
       "      <td>2.5</td>\n",
       "      <td>NaN</td>\n",
       "      <td>NaN</td>\n",
       "      <td>2.0</td>\n",
       "      <td>NaN</td>\n",
       "      <td>NaN</td>\n",
       "      <td>1.5</td>\n",
       "      <td>2.0</td>\n",
       "      <td>3.5</td>\n",
       "      <td>3.0</td>\n",
       "      <td>4.0</td>\n",
       "      <td>3.0</td>\n",
       "      <td>3.5</td>\n",
       "    </tr>\n",
       "    <tr>\n",
       "      <th>Beginners</th>\n",
       "      <td>1.5</td>\n",
       "      <td>2.5</td>\n",
       "      <td>3.5</td>\n",
       "      <td>3.5</td>\n",
       "      <td>NaN</td>\n",
       "      <td>3.0</td>\n",
       "      <td>3.0</td>\n",
       "      <td>3.0</td>\n",
       "      <td>4.0</td>\n",
       "      <td>NaN</td>\n",
       "      <td>NaN</td>\n",
       "      <td>NaN</td>\n",
       "      <td>3.5</td>\n",
       "      <td>3.0</td>\n",
       "      <td>2.0</td>\n",
       "      <td>NaN</td>\n",
       "    </tr>\n",
       "    <tr>\n",
       "      <th>Vampires</th>\n",
       "      <td>4.0</td>\n",
       "      <td>NaN</td>\n",
       "      <td>4.0</td>\n",
       "      <td>3.0</td>\n",
       "      <td>3.0</td>\n",
       "      <td>NaN</td>\n",
       "      <td>3.5</td>\n",
       "      <td>NaN</td>\n",
       "      <td>NaN</td>\n",
       "      <td>3.0</td>\n",
       "      <td>3.0</td>\n",
       "      <td>NaN</td>\n",
       "      <td>2.0</td>\n",
       "      <td>2.0</td>\n",
       "      <td>1.5</td>\n",
       "      <td>3.0</td>\n",
       "    </tr>\n",
       "    <tr>\n",
       "      <th>Once Upon A time</th>\n",
       "      <td>4.5</td>\n",
       "      <td>3.0</td>\n",
       "      <td>2.0</td>\n",
       "      <td>4.5</td>\n",
       "      <td>NaN</td>\n",
       "      <td>NaN</td>\n",
       "      <td>4.0</td>\n",
       "      <td>3.5</td>\n",
       "      <td>2.0</td>\n",
       "      <td>NaN</td>\n",
       "      <td>3.5</td>\n",
       "      <td>2.0</td>\n",
       "      <td>4.0</td>\n",
       "      <td>1.5</td>\n",
       "      <td>3.5</td>\n",
       "      <td>NaN</td>\n",
       "    </tr>\n",
       "    <tr>\n",
       "      <th>My breath</th>\n",
       "      <td>NaN</td>\n",
       "      <td>NaN</td>\n",
       "      <td>3.5</td>\n",
       "      <td>4.0</td>\n",
       "      <td>4.0</td>\n",
       "      <td>NaN</td>\n",
       "      <td>3.5</td>\n",
       "      <td>NaN</td>\n",
       "      <td>NaN</td>\n",
       "      <td>2.0</td>\n",
       "      <td>2.0</td>\n",
       "      <td>4.0</td>\n",
       "      <td>1.5</td>\n",
       "      <td>3.0</td>\n",
       "      <td>3.0</td>\n",
       "      <td>2.5</td>\n",
       "    </tr>\n",
       "    <tr>\n",
       "      <th>Heartbeat</th>\n",
       "      <td>3.5</td>\n",
       "      <td>2.5</td>\n",
       "      <td>NaN</td>\n",
       "      <td>3.0</td>\n",
       "      <td>NaN</td>\n",
       "      <td>NaN</td>\n",
       "      <td>NaN</td>\n",
       "      <td>NaN</td>\n",
       "      <td>2.5</td>\n",
       "      <td>NaN</td>\n",
       "      <td>2.5</td>\n",
       "      <td>3.0</td>\n",
       "      <td>3.6</td>\n",
       "      <td>2.5</td>\n",
       "      <td>4.0</td>\n",
       "      <td>NaN</td>\n",
       "    </tr>\n",
       "    <tr>\n",
       "      <th>Stay Safe</th>\n",
       "      <td>NaN</td>\n",
       "      <td>NaN</td>\n",
       "      <td>2.0</td>\n",
       "      <td>NaN</td>\n",
       "      <td>NaN</td>\n",
       "      <td>2.0</td>\n",
       "      <td>3.0</td>\n",
       "      <td>4.5</td>\n",
       "      <td>NaN</td>\n",
       "      <td>NaN</td>\n",
       "      <td>3.0</td>\n",
       "      <td>3.0</td>\n",
       "      <td>4.0</td>\n",
       "      <td>NaN</td>\n",
       "      <td>4.5</td>\n",
       "      <td>3.0</td>\n",
       "    </tr>\n",
       "    <tr>\n",
       "      <th>The Origins</th>\n",
       "      <td>2.5</td>\n",
       "      <td>NaN</td>\n",
       "      <td>NaN</td>\n",
       "      <td>2.5</td>\n",
       "      <td>2.5</td>\n",
       "      <td>4.0</td>\n",
       "      <td>2.0</td>\n",
       "      <td>NaN</td>\n",
       "      <td>NaN</td>\n",
       "      <td>3.0</td>\n",
       "      <td>NaN</td>\n",
       "      <td>4.0</td>\n",
       "      <td>3.0</td>\n",
       "      <td>3.5</td>\n",
       "      <td>3.0</td>\n",
       "      <td>2.0</td>\n",
       "    </tr>\n",
       "    <tr>\n",
       "      <th>Story of my life</th>\n",
       "      <td>2.0</td>\n",
       "      <td>3.0</td>\n",
       "      <td>3.5</td>\n",
       "      <td>NaN</td>\n",
       "      <td>NaN</td>\n",
       "      <td>NaN</td>\n",
       "      <td>1.5</td>\n",
       "      <td>3.0</td>\n",
       "      <td>3.0</td>\n",
       "      <td>5.0</td>\n",
       "      <td>NaN</td>\n",
       "      <td>4.0</td>\n",
       "      <td>2.0</td>\n",
       "      <td>NaN</td>\n",
       "      <td>3.5</td>\n",
       "      <td>1.5</td>\n",
       "    </tr>\n",
       "    <tr>\n",
       "      <th>Teenagers</th>\n",
       "      <td>3.0</td>\n",
       "      <td>NaN</td>\n",
       "      <td>NaN</td>\n",
       "      <td>3.5</td>\n",
       "      <td>NaN</td>\n",
       "      <td>NaN</td>\n",
       "      <td>2.5</td>\n",
       "      <td>NaN</td>\n",
       "      <td>NaN</td>\n",
       "      <td>3.0</td>\n",
       "      <td>1.5</td>\n",
       "      <td>2.0</td>\n",
       "      <td>NaN</td>\n",
       "      <td>3.5</td>\n",
       "      <td>1.5</td>\n",
       "      <td>NaN</td>\n",
       "    </tr>\n",
       "    <tr>\n",
       "      <th>Neighbours</th>\n",
       "      <td>NaN</td>\n",
       "      <td>NaN</td>\n",
       "      <td>2.5</td>\n",
       "      <td>3.0</td>\n",
       "      <td>1.5</td>\n",
       "      <td>3.0</td>\n",
       "      <td>1.0</td>\n",
       "      <td>NaN</td>\n",
       "      <td>2.5</td>\n",
       "      <td>NaN</td>\n",
       "      <td>3.0</td>\n",
       "      <td>3.0</td>\n",
       "      <td>NaN</td>\n",
       "      <td>2.5</td>\n",
       "      <td>2.0</td>\n",
       "      <td>3.0</td>\n",
       "    </tr>\n",
       "    <tr>\n",
       "      <th>The Journey</th>\n",
       "      <td>NaN</td>\n",
       "      <td>4.0</td>\n",
       "      <td>NaN</td>\n",
       "      <td>NaN</td>\n",
       "      <td>NaN</td>\n",
       "      <td>NaN</td>\n",
       "      <td>2.0</td>\n",
       "      <td>NaN</td>\n",
       "      <td>NaN</td>\n",
       "      <td>NaN</td>\n",
       "      <td>NaN</td>\n",
       "      <td>4.0</td>\n",
       "      <td>4.0</td>\n",
       "      <td>NaN</td>\n",
       "      <td>3.5</td>\n",
       "      <td>4.0</td>\n",
       "    </tr>\n",
       "    <tr>\n",
       "      <th>The Hereafter</th>\n",
       "      <td>3.0</td>\n",
       "      <td>NaN</td>\n",
       "      <td>4.0</td>\n",
       "      <td>2.0</td>\n",
       "      <td>NaN</td>\n",
       "      <td>2.5</td>\n",
       "      <td>3.0</td>\n",
       "      <td>2.0</td>\n",
       "      <td>3.0</td>\n",
       "      <td>NaN</td>\n",
       "      <td>2.5</td>\n",
       "      <td>3.0</td>\n",
       "      <td>2.0</td>\n",
       "      <td>1.5</td>\n",
       "      <td>2.0</td>\n",
       "      <td>3.5</td>\n",
       "    </tr>\n",
       "    <tr>\n",
       "      <th>Before life</th>\n",
       "      <td>4.0</td>\n",
       "      <td>1.5</td>\n",
       "      <td>3.0</td>\n",
       "      <td>NaN</td>\n",
       "      <td>3.5</td>\n",
       "      <td>1.5</td>\n",
       "      <td>2.0</td>\n",
       "      <td>3.5</td>\n",
       "      <td>NaN</td>\n",
       "      <td>3.5</td>\n",
       "      <td>3.0</td>\n",
       "      <td>4.0</td>\n",
       "      <td>NaN</td>\n",
       "      <td>2.5</td>\n",
       "      <td>3.0</td>\n",
       "      <td>2.0</td>\n",
       "    </tr>\n",
       "  </tbody>\n",
       "</table>\n",
       "</div>"
      ],
      "text/plain": [
       "                  Fatmah  Hajra  Mahsan  Hassan  Asha  Said  Ahmed  Zuwena  \\\n",
       "The lovers           3.5    NaN     3.0     3.5   4.0   3.0    2.5     3.0   \n",
       "Eat me more          4.0    NaN     3.0     4.0   3.5   2.5    3.6     4.5   \n",
       "Herois               3.5    NaN     NaN     2.5   NaN   NaN    2.0     NaN   \n",
       "Beginners            1.5    2.5     3.5     3.5   NaN   3.0    3.0     3.0   \n",
       "Vampires             4.0    NaN     4.0     3.0   3.0   NaN    3.5     NaN   \n",
       "Once Upon A time     4.5    3.0     2.0     4.5   NaN   NaN    4.0     3.5   \n",
       "My breath            NaN    NaN     3.5     4.0   4.0   NaN    3.5     NaN   \n",
       "Heartbeat            3.5    2.5     NaN     3.0   NaN   NaN    NaN     NaN   \n",
       "Stay Safe            NaN    NaN     2.0     NaN   NaN   2.0    3.0     4.5   \n",
       "The Origins          2.5    NaN     NaN     2.5   2.5   4.0    2.0     NaN   \n",
       "Story of my life     2.0    3.0     3.5     NaN   NaN   NaN    1.5     3.0   \n",
       "Teenagers            3.0    NaN     NaN     3.5   NaN   NaN    2.5     NaN   \n",
       "Neighbours           NaN    NaN     2.5     3.0   1.5   3.0    1.0     NaN   \n",
       "The Journey          NaN    4.0     NaN     NaN   NaN   NaN    2.0     NaN   \n",
       "The Hereafter        3.0    NaN     4.0     2.0   NaN   2.5    3.0     2.0   \n",
       "Before life          4.0    1.5     3.0     NaN   3.5   1.5    2.0     3.5   \n",
       "\n",
       "                  Awena  Sabah  Seif  Salim  Anwar  Hannan  Ilham  Ariff  \n",
       "The lovers          4.0    2.5   3.0    4.5    3.5     3.0    NaN    4.0  \n",
       "Eat me more         3.0    NaN   2.5    3.5    3.6     3.0    4.5    NaN  \n",
       "Herois              NaN    1.5   2.0    3.5    3.0     4.0    3.0    3.5  \n",
       "Beginners           4.0    NaN   NaN    NaN    3.5     3.0    2.0    NaN  \n",
       "Vampires            NaN    3.0   3.0    NaN    2.0     2.0    1.5    3.0  \n",
       "Once Upon A time    2.0    NaN   3.5    2.0    4.0     1.5    3.5    NaN  \n",
       "My breath           NaN    2.0   2.0    4.0    1.5     3.0    3.0    2.5  \n",
       "Heartbeat           2.5    NaN   2.5    3.0    3.6     2.5    4.0    NaN  \n",
       "Stay Safe           NaN    NaN   3.0    3.0    4.0     NaN    4.5    3.0  \n",
       "The Origins         NaN    3.0   NaN    4.0    3.0     3.5    3.0    2.0  \n",
       "Story of my life    3.0    5.0   NaN    4.0    2.0     NaN    3.5    1.5  \n",
       "Teenagers           NaN    3.0   1.5    2.0    NaN     3.5    1.5    NaN  \n",
       "Neighbours          2.5    NaN   3.0    3.0    NaN     2.5    2.0    3.0  \n",
       "The Journey         NaN    NaN   NaN    4.0    4.0     NaN    3.5    4.0  \n",
       "The Hereafter       3.0    NaN   2.5    3.0    2.0     1.5    2.0    3.5  \n",
       "Before life         NaN    3.5   3.0    4.0    NaN     2.5    3.0    2.0  "
      ]
     },
     "execution_count": 266,
     "metadata": {},
     "output_type": "execute_result"
    }
   ],
   "source": [
    "#read the file\n",
    "df = pd.read_csv(r'data/movie_gen.csv', delimiter=';',index_col=0)\n",
    "df"
   ]
  },
  {
   "cell_type": "code",
   "execution_count": 267,
   "id": "f6b9b458",
   "metadata": {},
   "outputs": [
    {
     "data": {
      "text/plain": [
       "83"
      ]
     },
     "execution_count": 267,
     "metadata": {},
     "output_type": "execute_result"
    }
   ],
   "source": [
    "df.isna().sum().sum()"
   ]
  },
  {
   "cell_type": "code",
   "execution_count": 268,
   "id": "37cb6a4f",
   "metadata": {},
   "outputs": [],
   "source": [
    "#Convert data frame to dictionaries\n",
    "movies_critiques =df.to_dict()"
   ]
  },
  {
   "cell_type": "code",
   "execution_count": 269,
   "id": "c61b5ea3",
   "metadata": {},
   "outputs": [
    {
     "data": {
      "text/plain": [
       "{'The lovers': nan,\n",
       " 'Eat me more': nan,\n",
       " 'Herois': nan,\n",
       " 'Beginners': 2.5,\n",
       " 'Vampires': nan,\n",
       " 'Once Upon A time': 3.0,\n",
       " 'My breath': nan,\n",
       " 'Heartbeat': 2.5,\n",
       " 'Stay Safe': nan,\n",
       " 'The Origins': nan,\n",
       " 'Story of my life': 3.0,\n",
       " 'Teenagers': nan,\n",
       " 'Neighbours': nan,\n",
       " 'The Journey': 4.0,\n",
       " 'The Hereafter': nan,\n",
       " 'Before life': 1.5}"
      ]
     },
     "execution_count": 269,
     "metadata": {},
     "output_type": "execute_result"
    }
   ],
   "source": [
    "movies_critiques['Hajra']"
   ]
  },
  {
   "cell_type": "markdown",
   "id": "b0612c3a",
   "metadata": {},
   "source": [
    "##### Movie Recommendations to Hajra with different measures\n",
    "In this question we will recommends movies to Hajra, by using different measures\n"
   ]
  },
  {
   "cell_type": "markdown",
   "id": "1174054b",
   "metadata": {},
   "source": [
    "##### By using BestRecommend with Manhattan Distance"
   ]
  },
  {
   "cell_type": "code",
   "execution_count": 270,
   "id": "6bd04f3b",
   "metadata": {},
   "outputs": [
    {
     "name": "stdout",
     "output_type": "stream",
     "text": [
      "[(3.3501620791015077, 'The lovers'), (3.2842368688423402, 'Eat me more'), (2.8392222472650355, 'Herois'), (2.8842633117220307, 'Vampires'), (2.9739884393063583, 'My breath'), (2.9815177179197114, 'Stay Safe'), (3.0411696015074505, 'The Origins'), (2.54811063498247, 'Teenagers'), (2.5724827908062067, 'Neighbours'), (2.5940318647192897, 'The Hereafter')]\n"
     ]
    },
    {
     "data": {
      "text/plain": [
       "'The lovers'"
      ]
     },
     "execution_count": 270,
     "metadata": {},
     "output_type": "execute_result"
    }
   ],
   "source": [
    "Bestrecommend('Hajra',movies_critiques)"
   ]
  },
  {
   "cell_type": "markdown",
   "id": "c16c46c3",
   "metadata": {},
   "source": [
    "##### By using BestRecommend with Euclidean Distance"
   ]
  },
  {
   "cell_type": "code",
   "execution_count": 271,
   "id": "19a4c819",
   "metadata": {},
   "outputs": [
    {
     "name": "stdout",
     "output_type": "stream",
     "text": [
      "[(3.343319944930279, 'The lovers'), (3.3652713076239404, 'Eat me more'), (2.8602813182716402, 'Herois'), (2.8732798601686875, 'Vampires'), (2.970430175561473, 'My breath'), (3.0835038918287077, 'Stay Safe'), (2.99726482966636, 'The Origins'), (2.553131270998158, 'Teenagers'), (2.5361466265111505, 'Neighbours'), (2.5940408395793075, 'The Hereafter')]\n"
     ]
    },
    {
     "data": {
      "text/plain": [
       "'Eat me more'"
      ]
     },
     "execution_count": 271,
     "metadata": {},
     "output_type": "execute_result"
    }
   ],
   "source": [
    "Bestrecommend2('Hajra',movies_critiques)"
   ]
  },
  {
   "cell_type": "markdown",
   "id": "f1afa984",
   "metadata": {},
   "source": [
    "##### By using BestrecommendwithExp"
   ]
  },
  {
   "cell_type": "code",
   "execution_count": 272,
   "id": "8216b9e1",
   "metadata": {},
   "outputs": [
    {
     "name": "stdout",
     "output_type": "stream",
     "text": [
      "[(3.2943618645129833, 'The lovers'), (2.869179975455558, 'Eat me more'), (2.8335501332701836, 'Herois'), (2.903253688829444, 'Vampires'), (2.925190722560882, 'My breath'), (2.4655246997997415, 'Stay Safe'), (3.393852941033694, 'The Origins'), (2.366564743795617, 'Teenagers'), (2.7617962173056463, 'Neighbours'), (2.5847583656173465, 'The Hereafter')]\n"
     ]
    },
    {
     "data": {
      "text/plain": [
       "'The Origins'"
      ]
     },
     "execution_count": 272,
     "metadata": {},
     "output_type": "execute_result"
    }
   ],
   "source": [
    "BestrecommendwithExp('Hajra',movies_critiques)"
   ]
  },
  {
   "cell_type": "markdown",
   "id": "202fac54",
   "metadata": {},
   "source": [
    "##### By using PearsonRecommend  "
   ]
  },
  {
   "cell_type": "code",
   "execution_count": 273,
   "id": "5aa629a1",
   "metadata": {},
   "outputs": [
    {
     "name": "stdout",
     "output_type": "stream",
     "text": [
      "[(3.387004429493516, 'The lovers'), (3.4813818648151527, 'Eat me more'), (3.06625101778652, 'Herois'), (2.9175372332033556, 'Vampires'), (3.0860416399106225, 'My breath'), (3.3350297791192967, 'Stay Safe'), (2.9469530431790147, 'The Origins'), (2.6654334842230445, 'Teenagers'), (2.395121359439874, 'Neighbours'), (2.591371095657789, 'The Hereafter')]\n"
     ]
    },
    {
     "data": {
      "text/plain": [
       "'Eat me more'"
      ]
     },
     "execution_count": 273,
     "metadata": {},
     "output_type": "execute_result"
    }
   ],
   "source": [
    "PearsonRecommend('Hajra',movies_critiques)"
   ]
  },
  {
   "cell_type": "markdown",
   "id": "b41c6a83",
   "metadata": {},
   "source": [
    "##### By using CosineRecommend"
   ]
  },
  {
   "cell_type": "code",
   "execution_count": 274,
   "id": "1d8b94b9",
   "metadata": {},
   "outputs": [
    {
     "name": "stdout",
     "output_type": "stream",
     "text": [
      "[(3.357142857142857, 'The lovers'), (3.476923076923077, 'Eat me more'), (2.85, 'Herois'), (2.909090909090909, 'Vampires'), (3.0, 'My breath'), (3.2222222222222223, 'Stay Safe'), (2.909090909090909, 'The Origins'), (2.5625, 'Teenagers'), (2.4545454545454546, 'Neighbours'), (2.6153846153846154, 'The Hereafter')]\n"
     ]
    },
    {
     "data": {
      "text/plain": [
       "'Eat me more'"
      ]
     },
     "execution_count": 274,
     "metadata": {},
     "output_type": "execute_result"
    }
   ],
   "source": [
    "CosineRecommend('Hajra',movies_critiques)"
   ]
  },
  {
   "cell_type": "markdown",
   "id": "36f63574",
   "metadata": {},
   "source": [
    "##### RESULTS OF MOVIES RECOMMENDATION TO HAJRA\n",
    "The results of movie recommandations generated above, show that the Euclidean Distance recomendations, PearsonRecommend and CosineRecommends generate the best recommendation with movies **\"Eat me more\"**, while the rest generate different results.\n",
    "\n",
    "The results generated is subjected to the nature of the dataset we have;\n",
    "* Different users use different scales to the movies\n",
    "* The data is spare\n",
    "\n",
    "Therefore the Pearson and Cosine Similarity are the best measures to consider in our recommendations.\n"
   ]
  }
 ],
 "metadata": {
  "kernelspec": {
   "display_name": "Python 3",
   "language": "python",
   "name": "python3"
  },
  "language_info": {
   "codemirror_mode": {
    "name": "ipython",
    "version": 3
   },
   "file_extension": ".py",
   "mimetype": "text/x-python",
   "name": "python",
   "nbconvert_exporter": "python",
   "pygments_lexer": "ipython3",
   "version": "3.8.8"
  }
 },
 "nbformat": 4,
 "nbformat_minor": 5
}
